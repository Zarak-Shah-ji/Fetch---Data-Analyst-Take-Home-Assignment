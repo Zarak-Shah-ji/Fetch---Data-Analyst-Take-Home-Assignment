{
 "cells": [
  {
   "cell_type": "markdown",
   "id": "59921f7e",
   "metadata": {},
   "source": [
    "### -------------------------------------  Closed-ended  SQL Queries ---------------------------"
   ]
  },
  {
   "cell_type": "markdown",
   "id": "3ec5402b",
   "metadata": {},
   "source": [
    "### Q1. What are the top 5 brands by receipts scanned among users 21 and over?"
   ]
  },
  {
   "cell_type": "code",
   "execution_count": null,
   "id": "95e0b55f",
   "metadata": {},
   "outputs": [],
   "source": [
    "\n",
    "--- Calculates users' ages based on BIRTH_DATE.\n",
    "WITH UserAge AS (\n",
    "    SELECT \n",
    "        column0 AS user_id,  -- ID from USER_TAKEHOME\n",
    "        TRY_CAST(SUBSTRING(column2, 1, 10) AS DATE) AS birth_date,  -- Extract YYYY-MM-DD\n",
    "        EXTRACT(YEAR FROM CURRENT_DATE) - EXTRACT(YEAR FROM TRY_CAST(SUBSTRING(column2, 1, 10) AS DATE)) AS age\n",
    "    FROM USER_TAKEHOME\n",
    "    WHERE column2 IS NOT NULL\n",
    "),\n",
    "-- Filters out users 21 and over\n",
    "EligibleUsers AS (\n",
    "    SELECT user_id FROM UserAge WHERE age >= 21\n",
    ")\n",
    "SELECT \n",
    "    p.BRAND AS brand,  \n",
    "    COUNT(DISTINCT t.RECEIPT_ID) AS receipt_count  \n",
    "FROM TRANSACTION_TAKEHOME t\n",
    "JOIN EligibleUsers u ON t.user_id = u.user_id  \n",
    "JOIN PRODUCTS_TAKEHOME p ON t.BARCODE = p.BARCODE\n",
    "GROUP BY p.BRAND\n",
    "ORDER BY receipt_count DESC\n",
    "LIMIT 6;\n",
    "\n",
    "--- NOTE:  Results had NULL at top with most receipts scanned so to exclude that added the 6th brand"
   ]
  },
  {
   "cell_type": "markdown",
   "id": "e8ee36f1",
   "metadata": {},
   "source": [
    "### RESULT "
   ]
  },
  {
   "cell_type": "code",
   "execution_count": null,
   "id": "249e73a7",
   "metadata": {},
   "outputs": [],
   "source": [
    "Rank\tBrand\tReceipts Scanned\n",
    "0\t1\t        \t  3\n",
    "0\t2\tDOVE\t3\n",
    "1\t3\tNERDS CANDY\t3\n",
    "2\t4\tSOUR PATCH KIDS\t2\n",
    "3\t5\tCOCA-COLA\t2\n",
    "4\t6\tTRIDENT\t2"
   ]
  },
  {
   "cell_type": "markdown",
   "id": "8e494e93",
   "metadata": {},
   "source": [
    "### Q2. What are the top 5 brands by sales among users that have had their account for at least six months?"
   ]
  },
  {
   "cell_type": "code",
   "execution_count": null,
   "id": "51a7c86b",
   "metadata": {},
   "outputs": [],
   "source": [
    "-- Get DayActive of Users\n",
    "WITH UserAccountAge AS (\n",
    "    SELECT \n",
    "        column0 AS user_id,  -- ID from USER_TAKEHOME\n",
    "        TRY_CAST(SUBSTRING(column1, 1, 10) AS DATE) AS created_date,  -- Extract YYYY-MM-DD\n",
    "        DATE_DIFF('day', TRY_CAST(SUBSTRING(column1, 1, 10) AS DATE), CURRENT_DATE) AS days_active\n",
    "    FROM USER_TAKEHOME\n",
    "    WHERE column1 IS NOT NULL\n",
    "),\n",
    "-- Filter for users active atleast for 6 months\n",
    "EligibleUsers AS (\n",
    "    SELECT user_id \n",
    "    FROM UserAccountAge \n",
    "    WHERE days_active >= 180  -- At least 6 months\n",
    "),\n",
    "\n",
    "-- TOP 5 brand sales\n",
    "BrandSales AS (\n",
    "    SELECT \n",
    "        p.brand AS brand,  \n",
    "        SUM(\n",
    "            CASE \n",
    "                WHEN TRIM(t.FINAL_SALE) = '' THEN 0  -- Replace empty strings with 0\n",
    "                WHEN TRY_CAST(t.FINAL_SALE AS DECIMAL) IS NULL THEN 0  -- Handle non-numeric values\n",
    "                ELSE TRY_CAST(t.FINAL_SALE AS DECIMAL)  \n",
    "            END\n",
    "        ) AS total_sales\n",
    "    FROM TRANSACTION_TAKEHOME t\n",
    "    JOIN EligibleUsers u ON t.user_id = u.user_id  \n",
    "    JOIN PRODUCTS_TAKEHOME p ON t.BARCODE = p.BARCODE  \n",
    "    GROUP BY p.brand\n",
    ")\n",
    "SELECT brand, total_sales\n",
    "FROM BrandSales\n",
    "ORDER BY total_sales DESC\n",
    "LIMIT 6;\n",
    "\n",
    "--- NOTE:  Results had NULL in betweeen with most total sales so to exclude that added the 6th brand"
   ]
  },
  {
   "cell_type": "code",
   "execution_count": null,
   "id": "3352c173",
   "metadata": {},
   "outputs": [],
   "source": [
    "Rank\tBrand\tTotal Sales\n",
    "0\t1\tCVS\t    72000\n",
    "1\t2\tTRIDENT\t  46720\n",
    "2\t3\tDOVE  \t   42880\n",
    "3\t4\tCOORS LIGHT\t 34960\n",
    "4\t5\t        \t  16650\n",
    "5\t6\t Quaker \t  16600"
   ]
  },
  {
   "cell_type": "code",
   "execution_count": null,
   "id": "5a61a193",
   "metadata": {},
   "outputs": [],
   "source": []
  }
 ],
 "metadata": {
  "kernelspec": {
   "display_name": "Python 3 (ipykernel)",
   "language": "python",
   "name": "python3"
  },
  "language_info": {
   "codemirror_mode": {
    "name": "ipython",
    "version": 3
   },
   "file_extension": ".py",
   "mimetype": "text/x-python",
   "name": "python",
   "nbconvert_exporter": "python",
   "pygments_lexer": "ipython3",
   "version": "3.11.5"
  }
 },
 "nbformat": 4,
 "nbformat_minor": 5
}
