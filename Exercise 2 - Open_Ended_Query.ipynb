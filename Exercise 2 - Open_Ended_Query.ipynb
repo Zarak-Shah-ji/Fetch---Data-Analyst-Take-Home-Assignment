{
 "cells": [
  {
   "cell_type": "markdown",
   "id": "645780c3",
   "metadata": {},
   "source": [
    "### ------------------------  Open-ended  SQL Queries ------------------------"
   ]
  },
  {
   "cell_type": "markdown",
   "id": "5981ac9d",
   "metadata": {},
   "source": [
    "### Q1. Which is the leading brand in the Dips & Salsa category?"
   ]
  },
  {
   "cell_type": "code",
   "execution_count": null,
   "id": "da252d55",
   "metadata": {},
   "outputs": [],
   "source": [
    "SELECT \n",
    "    p.brand,  \n",
    "    SUM(CAST(COALESCE(NULLIF(TRIM(t.FINAL_SALE), ''), '0') AS DECIMAL)) AS total_sales\n",
    "FROM TRANSACTION_TAKEHOME t\n",
    "INNER JOIN PRODUCTS_TAKEHOME p ON t.BARCODE = p.BARCODE\n",
    "WHERE p.CATEGORY_2 = 'Dips & Salsa'\n",
    "GROUP BY p.brand\n",
    "ORDER BY total_sales DESC\n",
    "LIMIT 1;"
   ]
  },
  {
   "cell_type": "markdown",
   "id": "b06384e4",
   "metadata": {},
   "source": [
    "### RESULT"
   ]
  },
  {
   "cell_type": "code",
   "execution_count": null,
   "id": "0075b426",
   "metadata": {},
   "outputs": [],
   "source": [
    "TOSTITOS\t\"260990\""
   ]
  },
  {
   "cell_type": "markdown",
   "id": "a6a457ff",
   "metadata": {},
   "source": [
    "### Assumptions"
   ]
  },
  {
   "cell_type": "code",
   "execution_count": null,
   "id": "c237113e",
   "metadata": {},
   "outputs": [],
   "source": [
    "1. Assuming Leading means the BRAND with most sales\n",
    "2. Filtering products only in the \"Dips & Salsa\" category.\n",
    "3. INNER joining tables to get rows which are in both tables and dropping others"
   ]
  }
 ],
 "metadata": {
  "kernelspec": {
   "display_name": "Python 3 (ipykernel)",
   "language": "python",
   "name": "python3"
  },
  "language_info": {
   "codemirror_mode": {
    "name": "ipython",
    "version": 3
   },
   "file_extension": ".py",
   "mimetype": "text/x-python",
   "name": "python",
   "nbconvert_exporter": "python",
   "pygments_lexer": "ipython3",
   "version": "3.11.5"
  }
 },
 "nbformat": 4,
 "nbformat_minor": 5
}
